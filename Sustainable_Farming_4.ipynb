{
  "nbformat": 4,
  "nbformat_minor": 0,
  "metadata": {
    "colab": {
      "name": "Sustainable_Farming_4.ipynb",
      "provenance": [],
      "collapsed_sections": [],
      "include_colab_link": true
    },
    "kernelspec": {
      "name": "python3",
      "display_name": "Python 3"
    }
  },
  "cells": [
    {
      "cell_type": "markdown",
      "metadata": {
        "id": "view-in-github",
        "colab_type": "text"
      },
      "source": [
        "<a href=\"https://colab.research.google.com/github/tubes886/sustainable-farming/blob/main/Sustainable_Farming_4.ipynb\" target=\"_parent\"><img src=\"https://colab.research.google.com/assets/colab-badge.svg\" alt=\"Open In Colab\"/></a>"
      ]
    },
    {
      "cell_type": "code",
      "metadata": {
        "id": "gGz8a54mb5qc",
        "cellView": "code",
        "colab": {
          "base_uri": "https://localhost:8080/"
        },
        "outputId": "068536b1-3b4b-4b13-aa08-a238aa93e689"
      },
      "source": [
        "# Notebook setup\n",
        "\n",
        "!gdown --id 1DgOZ56YruuUmHRD7hZNJNM39mlbRGApp # sample metadata\n",
        "!gdown --id 1R4Nv1SY4zn_Z3wnZuJcCHKI6yVPGGgGZ # bacteria counts lognorm\n",
        "\n",
        "import pandas as pd\n",
        "import numpy as np\n",
        "import seaborn as sns\n",
        "import matplotlib.pyplot as plt\n",
        "\n",
        "from sklearn.model_selection import train_test_split\n",
        "from sklearn.ensemble import RandomForestRegressor\n",
        "\n",
        "from sklearn.tree import plot_tree\n",
        "from sklearn.metrics import r2_score, mean_absolute_error\n",
        "from sklearn.model_selection import GridSearchCV\n",
        "\n",
        "metadata = pd.read_table('sample_metadata.tsv')\n",
        "metadata.index = ['farm_%i' % i for i in range(len(metadata))]\n",
        "\n",
        "bacteria_counts_lognorm = pd.read_csv('bacteria_counts_lognorm.csv', index_col=0)\n",
        "\n",
        "import pandas as pd\n",
        "import numpy as np\n",
        "import seaborn as sns\n",
        "import matplotlib.pyplot as plt\n",
        "\n",
        "from sklearn.model_selection import train_test_split\n",
        "from sklearn.neural_network import MLPRegressor\n",
        "from sklearn.tree import DecisionTreeRegressor\n",
        "from sklearn.neighbors import KNeighborsRegressor\n",
        "from sklearn.linear_model import LinearRegression\n",
        "\n",
        "from sklearn.metrics import r2_score, mean_absolute_error"
      ],
      "execution_count": null,
      "outputs": [
        {
          "output_type": "stream",
          "text": [
            "Downloading...\n",
            "From: https://drive.google.com/uc?id=1DgOZ56YruuUmHRD7hZNJNM39mlbRGApp\n",
            "To: /content/sample_metadata.tsv\n",
            "100% 64.3k/64.3k [00:00<00:00, 25.8MB/s]\n",
            "Downloading...\n",
            "From: https://drive.google.com/uc?id=1R4Nv1SY4zn_Z3wnZuJcCHKI6yVPGGgGZ\n",
            "To: /content/bacteria_counts_lognorm.csv\n",
            "7.44MB [00:00, 98.3MB/s]\n"
          ],
          "name": "stdout"
        }
      ]
    },
    {
      "cell_type": "code",
      "metadata": {
        "id": "RI8NI_koUmja",
        "colab": {
          "base_uri": "https://localhost:8080/",
          "height": 296
        },
        "outputId": "8cc2823f-88a1-43e9-dede-e9b23425e001"
      },
      "source": [
        "# Building multiple machine learning models to vote on their prediction for a label is called ensemble learning\n",
        "# Train different models using slightly different sets of features, ask them to vote on best prediction\n",
        "# Can then either take majority vote (for classification) or average the votes (for regression)\n",
        "# Ensemble machine learning model built using many decision trees = Random forest- to improve crop-yield-from-bacteria model\n",
        "\n",
        "# Defining X and y data\n",
        "X = bacteria_counts_lognorm\n",
        "y = metadata['crop_yield']\n",
        "\n",
        "\n",
        "# Splitting data into testing and training\n",
        "X_train, X_test, y_train, y_test = train_test_split(X, y)\n",
        "\n",
        "# Initializing model; n_estimators = the number of decision trees in random forest\n",
        "model = RandomForestRegressor(n_estimators=10)\n",
        "\n",
        "# Training model with training data\n",
        "model.fit(X_train, y_train)\n",
        "\n",
        "# Predicting on test data\n",
        "preds = model.predict(X_test)\n",
        "\n",
        "# Plotting predictions against true crop yields of test data\n",
        "plt.plot(y_test, preds, '.')\n",
        "plt.xlabel('True crop yields')\n",
        "plt.ylabel('Predicted crop yields')\n",
        "plt.show()\n",
        "\n",
        "# Computing r2_score using r2_score(y_test, preds)\n",
        "print('r2_score:', r2_score(y_test, preds))"
      ],
      "execution_count": null,
      "outputs": [
        {
          "output_type": "display_data",
          "data": {
            "image/png": "[encoded data removed]",
            "text/plain": [
              "<Figure size 432x288 with 1 Axes>"
            ]
          },
          "metadata": {
            "tags": [],
            "needs_background": "light"
          }
        },
        {
          "output_type": "stream",
          "text": [
            "r2_score: 0.778887861265825\n"
          ],
          "name": "stdout"
        }
      ]
    },
    {
      "cell_type": "code",
      "metadata": {
        "id": "eGY3pqIEzXwM",
        "colab": {
          "base_uri": "https://localhost:8080/"
        },
        "outputId": "d166835e-c017-4947-884e-83d4cfafc624"
      },
      "source": [
        "# Feature-reduced model; if any feature_importance = zero, that feature does not get used in the model\n",
        "# Thus the number of features used in the model equals the number of non zero feature importance\n",
        "# See how many features are used in the model\n",
        "\n",
        "feature_importances = model.feature_importances_\n",
        "n_possible_features = len(feature_importances)\n",
        "n_features_used = sum(feature_importances != 0)\n",
        "print(\"The random forest model used %i out of a possible %i features\" % \n",
        "      (n_features_used, n_possible_features))"
      ],
      "execution_count": null,
      "outputs": [
        {
          "output_type": "stream",
          "text": [
            "The random forest model used 500 out of a possible 632 features\n"
          ],
          "name": "stdout"
        }
      ]
    },
    {
      "cell_type": "code",
      "metadata": {
        "id": "o_7GSGAj6BSI",
        "colab": {
          "base_uri": "https://localhost:8080/"
        },
        "outputId": "7da5de8b-7a94-4f45-f422-41b6e7f5ce23"
      },
      "source": [
        "# In feature-reduced models, model is penalized for having more features = model will pick only a few very important features to use\n",
        "# Computing training and testing R2 values to see if original model was overfitting\n",
        "\n",
        "# Predict on the training data.\n",
        "y_pred_train = model.predict(X_train) ## FILL IN ###\n",
        "training_r2 = r2_score(y_train, y_pred_train) ## FILL IN ###\n",
        "\n",
        "# Predict on the testing data.\n",
        "y_pred_test = model.predict(X_test) ## FILL IN ###\n",
        "# Compare the predictions on the training data against the true crop yields.\n",
        "testing_r2 = r2_score(y_test, y_pred_test)\n",
        "\n",
        "print(\"Training r2: %\", training_r2)\n",
        "print(\"Testing r2: %\", testing_r2)"
      ],
      "execution_count": null,
      "outputs": [
        {
          "output_type": "stream",
          "text": [
            "Training r2: % 0.9617150197876021\n",
            "Testing r2: % 0.778887861265825\n"
          ],
          "name": "stdout"
        }
      ]
    },
    {
      "cell_type": "markdown",
      "metadata": {
        "id": "UIpgjWh07jzU"
      },
      "source": [
        "How different values of ```ccp_alpha``` affect the number of features in a model and its accuracy\n"
      ]
    },
    {
      "cell_type": "code",
      "metadata": {
        "id": "pJPciLyhXMPt",
        "colab": {
          "base_uri": "https://localhost:8080/"
        },
        "cellView": "form",
        "outputId": "fd7a1b13-72fd-49b4-96e5-40c83cdd8b8c"
      },
      "source": [
        "ccp_alpha = 0.00002 #@param {type:\"slider\", min:0.00001, max:0.0001, step:0.00001}\n",
        "model = RandomForestRegressor(n_estimators=10, ccp_alpha=ccp_alpha)\n",
        "model.fit(X_train, y_train)\n",
        "print(\"Using ccp_alpha=\", ccp_alpha)\n",
        "print(\"Pruned Model Training R2:\", r2_score(y_train,model.predict(X_train)))\n",
        "print(\"Pruned Model Testing R2:\", r2_score(y_test,model.predict(X_test)))\n",
        "print(\"Number of non-zero feature importances in pruned model:\", sum(model.feature_importances_!=0))"
      ],
      "execution_count": null,
      "outputs": [
        {
          "output_type": "stream",
          "text": [
            "Using ccp_alpha= 2e-05\n",
            "Pruned Model Training R2: 0.9265239283594277\n",
            "Pruned Model Testing R2: 0.7752095956724803\n",
            "Number of non-zero feature importances in pruned model: 328\n"
          ],
          "name": "stdout"
        }
      ]
    },
    {
      "cell_type": "code",
      "metadata": {
        "id": "QPBQtSOD92wG",
        "colab": {
          "base_uri": "https://localhost:8080/"
        },
        "outputId": "bc1e3d21-a804-434b-a0e9-31b98ddd85b6"
      },
      "source": [
        "# Building feature-reduced model\n",
        "# Pruning incentivizes model to use less features \n",
        "# Random forest \"prunes\"/removes branches to decrease the number of features being used, even if sacrificing training accuracy a bit \n",
        "# Adding an argument ccp_alpha (ccp stands for cross-complexity pruning) to RandomForestRegressor can specify how much pruning we want to be done  \n",
        "# A higher value of ccp_alpha means the model will perform more pruning\n",
        "\n",
        "# Using cross validation to decide best value of ccp_alpha\n",
        "# Split training set into a training and validation set \n",
        "# Model is trained using different values of ccp_alpha and evaluating accuracy using the training set using K different iterations of testing/validation split\n",
        "# Choose value of ccp_alpha that has best average accuracy for final training output\n",
        "# K-fold cross validation is good for evaluating a model's accuracy because every sample in the dataset will be part of the training and testing set at some iteration in the k-fold cross validation process\n",
        "\n",
        "model = RandomForestRegressor(n_estimators=10)\n",
        "\n",
        "# Instead of specifying ccp_alpha to the RandomForestRegressor class, \n",
        "# pass RandomForestRegressor to GridSearchCV model class and indicate ccp_alpha values the model should go through\n",
        "\n",
        "# Passing model to GridSearchCV and values of ccp_alpha to try\n",
        "model_cv = GridSearchCV(model, param_grid={'ccp_alpha': [.00001, .00002, .00003, .00004, .00005]})\n",
        "\n",
        "\n",
        "model_cv.fit(X_train, y_train)\n",
        "print(\"Pruned Model Training R2:\", r2_score(y_train,model_cv.predict(X_train)))\n",
        "print(\"Pruned Model Testing R2:\", r2_score(y_test,model_cv.predict(X_test)))\n",
        "print(\"Best value of ccp_alpha:\", model_cv.best_estimator_.ccp_alpha)\n",
        "print(\"Number of non-zero feature importances in best model:\", sum( model_cv.best_estimator_.feature_importances_!=0))"
      ],
      "execution_count": null,
      "outputs": [
        {
          "output_type": "stream",
          "text": [
            "Pruned Model Training R2: 0.9118598397453602\n",
            "Pruned Model Testing R2: 0.7675142668650488\n",
            "Best value of ccp_alpha: 3e-05\n",
            "Number of non-zero feature importances in best model: 308\n"
          ],
          "name": "stdout"
        }
      ]
    }
  ]
}