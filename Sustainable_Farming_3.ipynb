{
  "nbformat": 4,
  "nbformat_minor": 0,
  "metadata": {
    "colab": {
      "name": "Sustainable_Farming_3.ipynb",
      "provenance": [],
      "collapsed_sections": [],
      "include_colab_link": true
    },
    "kernelspec": {
      "display_name": "Python 3",
      "name": "python3"
    }
  },
  "cells": [
    {
      "cell_type": "markdown",
      "metadata": {
        "id": "view-in-github",
        "colab_type": "text"
      },
      "source": [
        "<a href=\"https://colab.research.google.com/github/tubes886/sustainable-farming/blob/main/Sustainable_Farming_3.ipynb\" target=\"_parent\"><img src=\"https://colab.research.google.com/assets/colab-badge.svg\" alt=\"Open In Colab\"/></a>"
      ]
    },
    {
      "cell_type": "code",
      "metadata": {
        "cellView": "code",
        "id": "nYn2RF2qvGOS",
        "colab": {
          "base_uri": "https://localhost:8080/"
        },
        "outputId": "89a18f5e-89f8-463f-a906-f61d61d261a0"
      },
      "source": [
        "# Notebook setup\n",
        "\n",
        "!gdown --id 1DgOZ56YruuUmHRD7hZNJNM39mlbRGApp # sample metadata\n",
        "!gdown --id 1R4Nv1SY4zn_Z3wnZuJcCHKI6yVPGGgGZ # bacteria counts lognorm\n",
        "\n",
        "\n",
        "import pandas as pd\n",
        "import numpy as np\n",
        "import seaborn as sns\n",
        "import matplotlib.pyplot as plt\n",
        "\n",
        "from sklearn.model_selection import train_test_split\n",
        "from sklearn.neural_network import MLPRegressor\n",
        "from sklearn.tree import DecisionTreeRegressor\n",
        "from sklearn.neighbors import KNeighborsRegressor\n",
        "from sklearn.linear_model import LinearRegression\n",
        "\n",
        "from sklearn.metrics import r2_score, mean_absolute_error\n",
        "\n",
        "metadata = pd.read_table('sample_metadata.tsv')\n",
        "metadata.index = ['farm_%i' % i for i in range(len(metadata))]\n",
        "\n",
        "bacteria_counts_lognorm = pd.read_csv('bacteria_counts_lognorm.csv', index_col=0)"
      ],
      "execution_count": null,
      "outputs": [
        {
          "output_type": "stream",
          "text": [
            "Downloading...\n",
            "From: https://drive.google.com/uc?id=1DgOZ56YruuUmHRD7hZNJNM39mlbRGApp\n",
            "To: /content/sample_metadata.tsv\n",
            "100% 64.3k/64.3k [00:00<00:00, 23.9MB/s]\n",
            "Downloading...\n",
            "From: https://drive.google.com/uc?id=1R4Nv1SY4zn_Z3wnZuJcCHKI6yVPGGgGZ\n",
            "To: /content/bacteria_counts_lognorm.csv\n",
            "7.44MB [00:00, 64.7MB/s]\n"
          ],
          "name": "stdout"
        }
      ]
    },
    {
      "cell_type": "code",
      "metadata": {
        "id": "ymiNuD0H5Unb",
        "colab": {
          "base_uri": "https://localhost:8080/",
          "height": 279
        },
        "outputId": "03788760-019d-4257-ecbb-8916a7762dd5"
      },
      "source": [
        "# Defining X and y data\n",
        "X = bacteria_counts_lognorm\n",
        "y = metadata['crop_yield']\n",
        "\n",
        "# Splitting data into testing and training\n",
        "X_train_dtr, X_test_dtr, y_train_dtr, y_test_dtr = train_test_split(X, y)\n",
        "\n",
        "# Initializing model\n",
        "decision_tree_regressor = DecisionTreeRegressor(max_depth=100, max_leaf_nodes=200)\n",
        "decision_tree_regressor.fit(X_train_dtr, y_train_dtr)\n",
        "\n",
        "# Making predictions on test data\n",
        "preds_dtr = decision_tree_regressor.predict(X_test_dtr)\n",
        "\n",
        "# Plotting predictions against true crop yields of test data\n",
        "plt.plot(y_test_dtr, preds_dtr, '.')\n",
        "plt.xlabel('True crop yields')\n",
        "plt.ylabel('Predicted crop yields')\n",
        "plt.show()"
      ],
      "execution_count": null,
      "outputs": [
        {
          "output_type": "display_data",
          "data": {
            "image/png": "[encoded data removed]",
            "text/plain": [
              "<Figure size 432x288 with 1 Axes>"
            ]
          },
          "metadata": {
            "tags": [],
            "needs_background": "light"
          }
        }
      ]
    },
    {
      "cell_type": "code",
      "metadata": {
        "id": "wxfy9_Z2vupU",
        "colab": {
          "base_uri": "https://localhost:8080/",
          "height": 279
        },
        "outputId": "f2e5d916-e80a-4603-9915-1230212b4835"
      },
      "source": [
        "# Experimenting with different models to see which type workds best in predicting crop yield from bacterial soil composition\n",
        "# The code below is to see how the original DecisionTreeRegressor from earlier performed\n",
        "\n",
        "# Defining X and y data\n",
        "X = bacteria_counts_lognorm\n",
        "y = metadata['crop_yield']\n",
        "\n",
        "# Splitting data into testing and training\n",
        "X_train, X_test, y_train, y_test = train_test_split(X, y)\n",
        "\n",
        "# Initializing model\n",
        "model = DecisionTreeRegressor(max_depth=100, max_leaf_nodes=200)\n",
        "model.fit(X_train, y_train)\n",
        "\n",
        "# Making predictions on test data\n",
        "preds = model.predict(X_test)\n",
        "\n",
        "# Plotting predictions against true crop yields of test data\n",
        "plt.plot(y_test, preds, '.')\n",
        "plt.xlabel('True crop yields')\n",
        "plt.ylabel('Predicted crop yields')\n",
        "plt.show()"
      ],
      "execution_count": null,
      "outputs": [
        {
          "output_type": "display_data",
          "data": {
            "image/png": "[encoded data removed]",
            "text/plain": [
              "<Figure size 432x288 with 1 Axes>"
            ]
          },
          "metadata": {
            "tags": [],
            "needs_background": "light"
          }
        }
      ]
    },
    {
      "cell_type": "markdown",
      "metadata": {
        "id": "CaIuwZgWTuMb"
      },
      "source": [
        "###**Exericse: Now go ahead and pick your favorite regression model (we have imported  ```LinearRegression```, ```MLPRegressor``` and ```KNNRegression``` for you), with your favorite hyperparameters. Go ahead and train that model, and plot test predictions against true crop yields, similarly to the cell before.**"
      ]
    },
    {
      "cell_type": "code",
      "metadata": {
        "id": "k41YXpUuTtCP",
        "colab": {
          "base_uri": "https://localhost:8080/",
          "height": 279
        },
        "outputId": "d7129393-e67d-43eb-8399-e5e35ba6f7fb"
      },
      "source": [
        "# MLPRegressor, KNNRegression, Linear Regression models with favorite hyperparameters; comparing their performances to the cell before\n",
        "\n",
        "model = LinearRegression()\n",
        "model.fit(X_train, y_train)\n",
        "preds = model.predict(X_test)\n",
        "\n",
        "# Plot your predictions against the true crop yields of the test data\n",
        "plt.plot(y_test, preds, '.')\n",
        "plt.xlabel('True crop yields')\n",
        "plt.ylabel('Predicted crop yields')\n",
        "plt.show()\n"
      ],
      "execution_count": null,
      "outputs": [
        {
          "output_type": "display_data",
          "data": {
            "image/png": "[encoded data removed]",
            "text/plain": [
              "<Figure size 432x288 with 1 Axes>"
            ]
          },
          "metadata": {
            "tags": [],
            "needs_background": "light"
          }
        }
      ]
    },
    {
      "cell_type": "code",
      "metadata": {
        "id": "Nk8XMD8t2D-O",
        "colab": {
          "base_uri": "https://localhost:8080/"
        },
        "outputId": "1ecbc41d-9555-4ad6-f9e6-3ee1011712b6"
      },
      "source": [
        "# Evaluation metrics to assess model performance\n",
        "# Coefficient of determination, R2\n",
        "# R2 is the correlation between test predictions and true test y-values \n",
        "# R2 measures how well the variability in test predictions are explained by the variability in the true values\n",
        "# The higher the R2 value, the better the model fits the data\n",
        "\n",
        "R2 = r2_score(y_test, preds)\n",
        "print('R2=', R2)"
      ],
      "execution_count": null,
      "outputs": [
        {
          "output_type": "stream",
          "text": [
            "R2= 0.493955108842311\n"
          ],
          "name": "stdout"
        }
      ]
    },
    {
      "cell_type": "code",
      "metadata": {
        "id": "HnwlKQpu1Ydy",
        "colab": {
          "base_uri": "https://localhost:8080/"
        },
        "outputId": "daad0270-98d4-4d6d-bbec-b30a2431f498"
      },
      "source": [
        "# Mean absolute error, MAE\n",
        "# MAE is the average error between test predictions and true y values\n",
        "# Lower values are better, meaning the model is better at predictions\n",
        "\n",
        "MAE = mean_absolute_error(y_test, preds)\n",
        "print('MAE=', MAE)"
      ],
      "execution_count": null,
      "outputs": [
        {
          "output_type": "stream",
          "text": [
            "MAE= 0.09332740424985062\n"
          ],
          "name": "stdout"
        }
      ]
    },
    {
      "cell_type": "code",
      "metadata": {
        "id": "vwdNqRJt0vp1",
        "colab": {
          "base_uri": "https://localhost:8080/"
        },
        "outputId": "1d28c24e-8bf5-4e41-a4f0-01de687c808e"
      },
      "source": [
        "# Relative squared error, RSE\n",
        "# RSE is the error in model prediction relative to predictions gotten if a very simple model was used- an average of all test data values\n",
        "# The closer the RSE value to zero, the better\n",
        "\n",
        "# Computing RSE using y_test and preds\n",
        "def relative_squared_error(true_vals, pred_vals):\n",
        "\n",
        "  # Computing the total squared error for predictions\n",
        "  total_squared_error = sum((pred_vals-true_vals)**2)\n",
        "\n",
        "  # Computing the average of true_vals.\n",
        "  average_of_true_vals = np.mean(true_vals)\n",
        "\n",
        "  # Compute the total squared error if we were using a simple model.\n",
        "  total_squared_error_simple_predictor  = sum((average_of_true_vals-true_vals)**2)\n",
        "\n",
        "  # Returning the ratio of total squared errors for model compared to the simple model\n",
        "  return (total_squared_error/total_squared_error_simple_predictor)\n",
        "\n",
        "\n",
        "# Using newly defined function to compute RSE using y_test and preds\n",
        "RSE = relative_squared_error(y_test, preds)\n",
        "print('RSE=', RSE)"
      ],
      "execution_count": null,
      "outputs": [
        {
          "output_type": "stream",
          "text": [
            "RSE= 0.5060448911576889\n"
          ],
          "name": "stdout"
        }
      ]
    },
    {
      "cell_type": "code",
      "metadata": {
        "id": "tWpvLUtkfnYk",
        "colab": {
          "base_uri": "https://localhost:8080/",
          "height": 417
        },
        "outputId": "ffb6e240-66d0-4631-e32a-588e4eddebba"
      },
      "source": [
        "metadata"
      ],
      "execution_count": null,
      "outputs": [
        {
          "output_type": "execute_result",
          "data": {
            "text/html": [
              "<div>\n",
              "<style scoped>\n",
              "    .dataframe tbody tr th:only-of-type {\n",
              "        vertical-align: middle;\n",
              "    }\n",
              "\n",
              "    .dataframe tbody tr th {\n",
              "        vertical-align: top;\n",
              "    }\n",
              "\n",
              "    .dataframe thead th {\n",
              "        text-align: right;\n",
              "    }\n",
              "</style>\n",
              "<table border=\"1\" class=\"dataframe\">\n",
              "  <thead>\n",
              "    <tr style=\"text-align: right;\">\n",
              "      <th></th>\n",
              "      <th>crop_yield</th>\n",
              "      <th>sample_type</th>\n",
              "      <th>country</th>\n",
              "      <th>timestamp</th>\n",
              "    </tr>\n",
              "  </thead>\n",
              "  <tbody>\n",
              "    <tr>\n",
              "      <th>farm_0</th>\n",
              "      <td>0.68</td>\n",
              "      <td>barley soil sample</td>\n",
              "      <td>GAZ:Australia</td>\n",
              "      <td>2011-3-26</td>\n",
              "    </tr>\n",
              "    <tr>\n",
              "      <th>farm_1</th>\n",
              "      <td>1.00</td>\n",
              "      <td>barley soil sample</td>\n",
              "      <td>GAZ:Australia</td>\n",
              "      <td>2011-11-22</td>\n",
              "    </tr>\n",
              "    <tr>\n",
              "      <th>farm_2</th>\n",
              "      <td>0.87</td>\n",
              "      <td>barley soil sample</td>\n",
              "      <td>GAZ:Australia</td>\n",
              "      <td>2011-6-10</td>\n",
              "    </tr>\n",
              "    <tr>\n",
              "      <th>farm_3</th>\n",
              "      <td>0.68</td>\n",
              "      <td>barley soil sample</td>\n",
              "      <td>GAZ:Australia</td>\n",
              "      <td>2011-11-3</td>\n",
              "    </tr>\n",
              "    <tr>\n",
              "      <th>farm_4</th>\n",
              "      <td>0.67</td>\n",
              "      <td>barley soil sample</td>\n",
              "      <td>GAZ:Australia</td>\n",
              "      <td>2011-3-26</td>\n",
              "    </tr>\n",
              "    <tr>\n",
              "      <th>...</th>\n",
              "      <td>...</td>\n",
              "      <td>...</td>\n",
              "      <td>...</td>\n",
              "      <td>...</td>\n",
              "    </tr>\n",
              "    <tr>\n",
              "      <th>farm_1339</th>\n",
              "      <td>0.74</td>\n",
              "      <td>barley soil sample</td>\n",
              "      <td>GAZ:Australia</td>\n",
              "      <td>2011-3-9</td>\n",
              "    </tr>\n",
              "    <tr>\n",
              "      <th>farm_1340</th>\n",
              "      <td>0.77</td>\n",
              "      <td>barley soil sample</td>\n",
              "      <td>GAZ:Australia</td>\n",
              "      <td>2011-9-25</td>\n",
              "    </tr>\n",
              "    <tr>\n",
              "      <th>farm_1341</th>\n",
              "      <td>0.69</td>\n",
              "      <td>barley soil sample</td>\n",
              "      <td>GAZ:Australia</td>\n",
              "      <td>2011-2-13</td>\n",
              "    </tr>\n",
              "    <tr>\n",
              "      <th>farm_1342</th>\n",
              "      <td>0.44</td>\n",
              "      <td>barley soil sample</td>\n",
              "      <td>GAZ:Australia</td>\n",
              "      <td>2011-1-2</td>\n",
              "    </tr>\n",
              "    <tr>\n",
              "      <th>farm_1343</th>\n",
              "      <td>0.59</td>\n",
              "      <td>barley soil sample</td>\n",
              "      <td>GAZ:Australia</td>\n",
              "      <td>2011-1-14</td>\n",
              "    </tr>\n",
              "  </tbody>\n",
              "</table>\n",
              "<p>1344 rows × 4 columns</p>\n",
              "</div>"
            ],
            "text/plain": [
              "           crop_yield         sample_type        country   timestamp\n",
              "farm_0           0.68  barley soil sample  GAZ:Australia   2011-3-26\n",
              "farm_1           1.00  barley soil sample  GAZ:Australia  2011-11-22\n",
              "farm_2           0.87  barley soil sample  GAZ:Australia   2011-6-10\n",
              "farm_3           0.68  barley soil sample  GAZ:Australia   2011-11-3\n",
              "farm_4           0.67  barley soil sample  GAZ:Australia   2011-3-26\n",
              "...               ...                 ...            ...         ...\n",
              "farm_1339        0.74  barley soil sample  GAZ:Australia    2011-3-9\n",
              "farm_1340        0.77  barley soil sample  GAZ:Australia   2011-9-25\n",
              "farm_1341        0.69  barley soil sample  GAZ:Australia   2011-2-13\n",
              "farm_1342        0.44  barley soil sample  GAZ:Australia    2011-1-2\n",
              "farm_1343        0.59  barley soil sample  GAZ:Australia   2011-1-14\n",
              "\n",
              "[1344 rows x 4 columns]"
            ]
          },
          "metadata": {
            "tags": []
          },
          "execution_count": 12
        }
      ]
    },
    {
      "cell_type": "code",
      "metadata": {
        "id": "5Mc3YarIUdSP",
        "colab": {
          "base_uri": "https://localhost:8080/",
          "height": 203
        },
        "outputId": "aa1463d7-553e-414b-f608-28d68bfb55b6"
      },
      "source": [
        "# Retrieving crop yield predictions on training data\n",
        "crop_yield_test_predictions = model.predict(X_test)\n",
        "\n",
        "# Creating new dataframe and corresponding farm numbers\n",
        "yield_predictions_dataframe = pd.DataFrame(data={'farm':X_test.index, 'crop_yield':crop_yield_test_predictions})\n",
        "yield_predictions_dataframe.head()"
      ],
      "execution_count": null,
      "outputs": [
        {
          "output_type": "execute_result",
          "data": {
            "text/html": [
              "<div>\n",
              "<style scoped>\n",
              "    .dataframe tbody tr th:only-of-type {\n",
              "        vertical-align: middle;\n",
              "    }\n",
              "\n",
              "    .dataframe tbody tr th {\n",
              "        vertical-align: top;\n",
              "    }\n",
              "\n",
              "    .dataframe thead th {\n",
              "        text-align: right;\n",
              "    }\n",
              "</style>\n",
              "<table border=\"1\" class=\"dataframe\">\n",
              "  <thead>\n",
              "    <tr style=\"text-align: right;\">\n",
              "      <th></th>\n",
              "      <th>farm</th>\n",
              "      <th>crop_yield</th>\n",
              "    </tr>\n",
              "  </thead>\n",
              "  <tbody>\n",
              "    <tr>\n",
              "      <th>0</th>\n",
              "      <td>farm_335</td>\n",
              "      <td>1.029991</td>\n",
              "    </tr>\n",
              "    <tr>\n",
              "      <th>1</th>\n",
              "      <td>farm_1311</td>\n",
              "      <td>0.897462</td>\n",
              "    </tr>\n",
              "    <tr>\n",
              "      <th>2</th>\n",
              "      <td>farm_180</td>\n",
              "      <td>0.680021</td>\n",
              "    </tr>\n",
              "    <tr>\n",
              "      <th>3</th>\n",
              "      <td>farm_110</td>\n",
              "      <td>0.445745</td>\n",
              "    </tr>\n",
              "    <tr>\n",
              "      <th>4</th>\n",
              "      <td>farm_640</td>\n",
              "      <td>0.891508</td>\n",
              "    </tr>\n",
              "  </tbody>\n",
              "</table>\n",
              "</div>"
            ],
            "text/plain": [
              "        farm  crop_yield\n",
              "0   farm_335    1.029991\n",
              "1  farm_1311    0.897462\n",
              "2   farm_180    0.680021\n",
              "3   farm_110    0.445745\n",
              "4   farm_640    0.891508"
            ]
          },
          "metadata": {
            "tags": []
          },
          "execution_count": 13
        }
      ]
    },
    {
      "cell_type": "code",
      "metadata": {
        "id": "Ght7R5m3IecE",
        "colab": {
          "base_uri": "https://localhost:8080/",
          "height": 374
        },
        "outputId": "2094a8bc-e50d-4197-de3d-ae586056f21d"
      },
      "source": [
        "# Sorting predictions dataframe by crop yield, viewing first ten farms\n",
        "sorted_dataframe = yield_predictions_dataframe\n",
        "top_farms_dataframe = sorted_dataframe.head(10)\n",
        "farm_names=top_farms_dataframe['farm']\n",
        "print(\"According to our model, the top 10 best plots are:\", farm_names.to_list())\n",
        "top_farms_dataframe"
      ],
      "execution_count": null,
      "outputs": [
        {
          "output_type": "stream",
          "text": [
            "According to our model, the top 10 best plots are: ['farm_335', 'farm_1311', 'farm_180', 'farm_110', 'farm_640', 'farm_974', 'farm_636', 'farm_338', 'farm_1292', 'farm_614']\n"
          ],
          "name": "stdout"
        },
        {
          "output_type": "execute_result",
          "data": {
            "text/html": [
              "<div>\n",
              "<style scoped>\n",
              "    .dataframe tbody tr th:only-of-type {\n",
              "        vertical-align: middle;\n",
              "    }\n",
              "\n",
              "    .dataframe tbody tr th {\n",
              "        vertical-align: top;\n",
              "    }\n",
              "\n",
              "    .dataframe thead th {\n",
              "        text-align: right;\n",
              "    }\n",
              "</style>\n",
              "<table border=\"1\" class=\"dataframe\">\n",
              "  <thead>\n",
              "    <tr style=\"text-align: right;\">\n",
              "      <th></th>\n",
              "      <th>farm</th>\n",
              "      <th>crop_yield</th>\n",
              "    </tr>\n",
              "  </thead>\n",
              "  <tbody>\n",
              "    <tr>\n",
              "      <th>0</th>\n",
              "      <td>farm_335</td>\n",
              "      <td>1.029991</td>\n",
              "    </tr>\n",
              "    <tr>\n",
              "      <th>1</th>\n",
              "      <td>farm_1311</td>\n",
              "      <td>0.897462</td>\n",
              "    </tr>\n",
              "    <tr>\n",
              "      <th>2</th>\n",
              "      <td>farm_180</td>\n",
              "      <td>0.680021</td>\n",
              "    </tr>\n",
              "    <tr>\n",
              "      <th>3</th>\n",
              "      <td>farm_110</td>\n",
              "      <td>0.445745</td>\n",
              "    </tr>\n",
              "    <tr>\n",
              "      <th>4</th>\n",
              "      <td>farm_640</td>\n",
              "      <td>0.891508</td>\n",
              "    </tr>\n",
              "    <tr>\n",
              "      <th>5</th>\n",
              "      <td>farm_974</td>\n",
              "      <td>0.462010</td>\n",
              "    </tr>\n",
              "    <tr>\n",
              "      <th>6</th>\n",
              "      <td>farm_636</td>\n",
              "      <td>0.503956</td>\n",
              "    </tr>\n",
              "    <tr>\n",
              "      <th>7</th>\n",
              "      <td>farm_338</td>\n",
              "      <td>0.615389</td>\n",
              "    </tr>\n",
              "    <tr>\n",
              "      <th>8</th>\n",
              "      <td>farm_1292</td>\n",
              "      <td>1.171882</td>\n",
              "    </tr>\n",
              "    <tr>\n",
              "      <th>9</th>\n",
              "      <td>farm_614</td>\n",
              "      <td>0.631764</td>\n",
              "    </tr>\n",
              "  </tbody>\n",
              "</table>\n",
              "</div>"
            ],
            "text/plain": [
              "        farm  crop_yield\n",
              "0   farm_335    1.029991\n",
              "1  farm_1311    0.897462\n",
              "2   farm_180    0.680021\n",
              "3   farm_110    0.445745\n",
              "4   farm_640    0.891508\n",
              "5   farm_974    0.462010\n",
              "6   farm_636    0.503956\n",
              "7   farm_338    0.615389\n",
              "8  farm_1292    1.171882\n",
              "9   farm_614    0.631764"
            ]
          },
          "metadata": {
            "tags": []
          },
          "execution_count": 14
        }
      ]
    },
    {
      "cell_type": "code",
      "metadata": {
        "id": "m6dT6JRmKOLO",
        "colab": {
          "base_uri": "https://localhost:8080/"
        },
        "outputId": "a94ca212-d8b8-409c-d2eb-5775ee343f90"
      },
      "source": [
        "# If gov had gone with model's suggestions, what would have been total crop yield of the ten farms?\n",
        "# Extracting true crop yields from the 10 farms the model suggested\n",
        "crop_yields_top_10_predictions = top_farms_dataframe['crop_yield']\n",
        "\n",
        "\n",
        "# Computing total crop yield from all 10 farms combined\n",
        "total_crop_yield_using_model = crop_yields_top_10_predictions.sum()\n",
        "print(\"total crop yield using model suggestions: \", total_crop_yield_using_model)"
      ],
      "execution_count": null,
      "outputs": [
        {
          "output_type": "stream",
          "text": [
            "total crop yield using model suggestions:  7.329726851491463\n"
          ],
          "name": "stdout"
        }
      ]
    },
    {
      "cell_type": "code",
      "metadata": {
        "id": "O8BdvYwHLZ6v",
        "colab": {
          "base_uri": "https://localhost:8080/"
        },
        "outputId": "286e6396-f594-47f8-c0cf-302b359172a5"
      },
      "source": [
        "# Simulating the government picking plots for farm via lottery rather than using our model\n",
        "\n",
        "np.random.seed(100) \n",
        "\n",
        "# Randomly pick ten farms/crop yields from test data\n",
        "crop_yields_10_random_picks = np.random.choice(y_test, 10)\n",
        "\n",
        "# Computing total crop yield from all ten randomly chosen farms combined\n",
        "total_crop_yield_using_lottery = crop_yields_10_random_picks.sum()\n",
        "print(\"Total crop yield using random picks: \", total_crop_yield_using_lottery)"
      ],
      "execution_count": null,
      "outputs": [
        {
          "output_type": "stream",
          "text": [
            "Total crop yield using random picks:  8.15\n"
          ],
          "name": "stdout"
        }
      ]
    },
    {
      "cell_type": "code",
      "metadata": {
        "id": "NL5nevxKMHdb",
        "colab": {
          "base_uri": "https://localhost:8080/"
        },
        "outputId": "b10b2996-4de3-4a8e-f882-7a1f5bf78a65"
      },
      "source": [
        "# Changing the random.seed in above code simulates a different set of randomly chosen farms each time, so we want to run it many times for accuracy\n",
        "# Computing total crop yield for 100 interations of the simulation\n",
        "\n",
        "# Randomly pick 10 farms/crop yields from test data\n",
        "total_crop_yield_using_lottery_list = np.array([])\n",
        "for simulation in range(100):\n",
        "\n",
        "  crop_yields_10_random_picks = np.random.choice(y_test, 10)\n",
        "  total_crop_yield_using_lottery = crop_yields_10_random_picks.sum()\n",
        "\n",
        "  # Appending value to list of total crop yields\n",
        "  total_crop_yield_using_lottery_list = np.append(total_crop_yield_using_lottery_list, total_crop_yield_using_lottery)\n",
        "\n",
        "print('lottery crop yields: ', total_crop_yield_using_lottery_list)"
      ],
      "execution_count": null,
      "outputs": [
        {
          "output_type": "stream",
          "text": [
            "lottery crop yields:  [7.77 8.28 7.97 7.57 8.26 7.91 7.69 7.24 7.54 6.79 7.03 7.18 7.91 7.78\n",
            " 7.56 7.57 7.21 7.4  8.6  7.98 8.12 7.21 7.77 7.35 7.41 7.87 7.63 7.48\n",
            " 7.69 7.24 7.29 7.93 7.25 6.77 7.23 7.89 6.68 7.56 8.08 7.69 7.08 8.05\n",
            " 6.79 7.35 7.28 7.71 7.11 8.12 7.31 8.34 6.69 8.23 7.26 8.44 7.3  7.4\n",
            " 7.41 7.69 8.67 8.16 6.89 6.73 7.58 8.07 7.33 7.63 7.15 7.98 7.01 8.99\n",
            " 6.87 8.44 8.03 7.49 6.87 6.86 7.61 7.7  7.94 7.86 8.69 6.89 6.84 7.1\n",
            " 8.21 7.36 7.61 8.44 7.04 7.42 7.11 8.03 7.27 8.19 7.27 6.16 7.61 6.5\n",
            " 7.02 7.63]\n"
          ],
          "name": "stdout"
        }
      ]
    },
    {
      "cell_type": "code",
      "metadata": {
        "id": "_TlLtqdfN721",
        "colab": {
          "base_uri": "https://localhost:8080/"
        },
        "outputId": "8d1529ad-136b-49d4-af98-12471bce8b55"
      },
      "source": [
        "# Average crop yield if government chose farms based on lottery\n",
        "\n",
        "avg_total_crop_yield_from_lottery = np.mean(total_crop_yield_using_lottery_list)\n",
        "print(\"average crop yield using lottery system:\", avg_total_crop_yield_from_lottery)"
      ],
      "execution_count": null,
      "outputs": [
        {
          "output_type": "stream",
          "text": [
            "average crop yield using lottery system: 7.551900000000001\n"
          ],
          "name": "stdout"
        }
      ]
    },
    {
      "cell_type": "code",
      "metadata": {
        "id": "kRvCxdOaeRaj",
        "colab": {
          "base_uri": "https://localhost:8080/",
          "height": 312
        },
        "outputId": "b83409aa-93ba-4f6b-d675-69bf158e01b4"
      },
      "source": [
        "# Histogram of crop yields using lottery system compared to crop yields using our model\n",
        "\n",
        "plt.hist(total_crop_yield_using_lottery_list)\n",
        "plt.vlines(total_crop_yield_using_model, ymin=0, ymax=30, color='r', linestyle='dashed')\n",
        "plt.xlabel('Total crop yield')\n",
        "plt.ylabel('Frequency')\n",
        "plt.title('Total Crop Yield if picked randomly')\n",
        "print('Dotted line represents total crop yield if using model to select farms.')"
      ],
      "execution_count": null,
      "outputs": [
        {
          "output_type": "stream",
          "text": [
            "Dotted line represents total crop yield if using model to select farms.\n"
          ],
          "name": "stdout"
        },
        {
          "output_type": "display_data",
          "data": {
            "image/png": "[encoded data removed]",
            "text/plain": [
              "<Figure size 432x288 with 1 Axes>"
            ]
          },
          "metadata": {
            "tags": [],
            "needs_background": "light"
          }
        }
      ]
    }
  ]
}